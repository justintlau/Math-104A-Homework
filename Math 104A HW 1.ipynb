{
 "cells": [
  {
   "cell_type": "markdown",
   "metadata": {},
   "source": [
    "# Homework 1\n",
    "Justin Lau, Last Modified 06/27/20 12:32pm"
   ]
  },
  {
   "cell_type": "markdown",
   "metadata": {},
   "source": [
    "## Question 1:\n",
    "\n",
    "a.) The Intermediate Value Theorem: if a function f is continuous and the domain has the interval [a,b], then it takes on any given value between f(a) and f(b) at some point within the interval.\n",
    "\n",
    "b.) The Mean Value Theorem: if a function f is continuous on [a,b] and differentiable on (a,b) then there is a number c such that a<c<b\n",
    "\n",
    "c.) Rolle's Theorem: if a function f is continuous on [a,b] and differentiable on (a,b), and f(a) = f(b) then there is a number c such that a<c<b, and f'(c) = 0\n",
    "\n",
    "d.) The Mean Value Theorem for Integrals: If f is a continuous function on a bounded interval [a,b], then there is at least one number c in (a,b) where\n",
    "    f(c) = 1/(b-a)  Integral(f(t),t = a,...,b) \n",
    "\n",
    "e.) The Weighted Mean Value Theorem for Integrals: \n",
    "let f be a continuous function on [a,b], then there is at least one number c in (a,b) such that Integral(f(x)dx, x=a,...,b) = f(c)(b-a)\n",
    "Thus if x is in (a,b) then a<cx<x such that\n",
    "Integral(f(t)dt, t=a,...,x) = f(cx)(x-a)"
   ]
  },
  {
   "cell_type": "markdown",
   "metadata": {},
   "source": [
    "## Question 2 part a:"
   ]
  },
  {
   "cell_type": "code",
   "execution_count": 2,
   "metadata": {},
   "outputs": [
    {
     "name": "stdout",
     "output_type": "stream",
     "text": [
      "When h = 0.1  Th[f] =  0.6682683087950135 Error |I[f]-Th[f]| =  0.0016016421283467919\n",
      "When h = 0.05  Th[f] =  0.6670676941291322 Error |I[f]-Th[f]| =  0.0004010274624655086\n",
      "When h = 0.025  Th[f] =  0.6667669623471979 Error |I[f]-Th[f]| =  0.00010029568053115945\n"
     ]
    }
   ],
   "source": [
    "import numpy as np\n",
    "#The variables we are give for this problem are a = 0, b = 2, and h = 2/20, 2/40, 2/80\n",
    "#Given f(x) function for part a\n",
    "def f(x):\n",
    "    return 1/((1+x)**2)\n",
    "\n",
    "#Creating function for the Composite Trapezoidal Rule\n",
    "def CTR(a,b,h):\n",
    "    #Create list to add to for each term of f(x)\n",
    "    Th = []\n",
    "    #Definition of N as given in the notes\n",
    "    N =(b-a)/h\n",
    "    #First and last term of Th[f] of 1/2f(x0) and 1/2f(xN)\n",
    "    Th.append(h*(f(a)+f(b))/2)\n",
    "    #Loop to add every f(x) term to the created list\n",
    "    for i in range(1,int(N)):\n",
    "        Th.append(h*f(a+ i*h))\n",
    "    #Adding all of the terms in the list together and indexing the last integer   \n",
    "    Th = np.cumsum(Th)[-1]\n",
    "    return Th\n",
    "\n",
    "\n",
    "#I[f] is the integral of f(x) which is just -1/(1+x), just need to input a and b\n",
    "I_f = abs(-1/(1+2)+1/1)\n",
    "\n",
    "#Printing the results for each value of h given for part a\n",
    "for x in [2/20,2/40,2/80]:\n",
    "    Th = CTR(0, 2,x)\n",
    "    print ('When h =', x,' Th[f] = ',Th ,'Error |I[f]-Th[f]| = ',abs(I_f - Th))\n",
    "\n",
    "\n"
   ]
  },
  {
   "cell_type": "markdown",
   "metadata": {},
   "source": [
    "## Question 2 part b:"
   ]
  },
  {
   "cell_type": "code",
   "execution_count": 3,
   "metadata": {},
   "outputs": [
    {
     "name": "stdout",
     "output_type": "stream",
     "text": [
      "The exact value of the integral is: 0.6666666666666666\n",
      "When N = 16 Th[f] 0.6635811968772283\n",
      "When N = 32 Th[f] 0.6655589362789418\n",
      "When N = 64 Th[f] 0.6662708113785066\n",
      "When N = 128 Th[f] 0.6665256572968263\n",
      "As N gets bigger it is converging onto the exact value of the integral which is 2/3\n"
     ]
    }
   ],
   "source": [
    "import math\n",
    "#given equation of the new f(x)\n",
    "def f(x):\n",
    "    return math.sqrt(x)\n",
    "#Given a and b values for part b\n",
    "a = 0\n",
    "b = 1\n",
    "#The integral of sqrt(x) is 2/3*(x**(3/2))\n",
    "print('The exact value of the integral is:', 2/3*(1**(3/2)))\n",
    "#Iterate through the given N values to find the h value to input into the CTR function defined in a\n",
    "for N in [16,32,64,128]:\n",
    "    h = (b-a)/N\n",
    "    Th = CTR(a,b,h)\n",
    "    print('When N =',N, 'Th[f]', Th)\n",
    "\n",
    "print(\"As N gets bigger it is converging onto the exact value of the integral which is 2/3\")"
   ]
  },
  {
   "cell_type": "markdown",
   "metadata": {},
   "source": [
    "## Question 3 part a:"
   ]
  },
  {
   "cell_type": "code",
   "execution_count": 54,
   "metadata": {},
   "outputs": [
    {
     "name": "stdout",
     "output_type": "stream",
     "text": [
      "h = 0.1 q(h) = 22.794453555228753\n",
      "h = 0.11 q(h) = 0.9799364174283303\n",
      "h = 0.12 q(h) = 0.9457880238658122\n",
      "h = 0.13 q(h) = 15.785766116004792\n",
      "h = 0.13999999999999999 q(h) = 4.004792832364655\n",
      "h = 0.14999999999999997 q(h) = 1.0087425645123347\n",
      "h = 0.15999999999999998 q(h) = 4.642231301918472\n",
      "h = 0.16999999999999998 q(h) = 0.9928990694162618\n",
      "h = 0.17999999999999997 q(h) = 3.8881633095694808\n",
      "h = 0.18999999999999995 q(h) = 17.429586069029497\n",
      "For h = 0.14, q(h) is approximately 4\n"
     ]
    }
   ],
   "source": [
    "#The given function for f(x)\n",
    "def f(x):\n",
    "    return math.cos(x**2)\n",
    "#Given a, b values for problem 3\n",
    "a = 0\n",
    "b = math.sqrt(math.pi/2)\n",
    "\n",
    "#Creating a function for q[h] to find the h value\n",
    "def q(a,b,h):\n",
    "    return(CTR(a,b,h/2)-CTR(a,b,h))/(CTR(a,b,h/4)-CTR(a,b,h/2))\n",
    "\n",
    "#Iterating through various h values to find one with an output closest to 4\n",
    "for h in np.arange(0.1,.2,.01):\n",
    "    print('h =',h, 'q(h) =', q(a,b,h))\n",
    "\n",
    "print('For h = 0.14, q(h) is approximately 4')\n"
   ]
  },
  {
   "cell_type": "markdown",
   "metadata": {},
   "source": [
    "## Question 3 part b:"
   ]
  },
  {
   "cell_type": "code",
   "execution_count": 62,
   "metadata": {},
   "outputs": [
    {
     "name": "stdout",
     "output_type": "stream",
     "text": [
      "Approximation of the Error, I[cos(x^2)] - Th[cos(x^2)]: 0.04656413140425397\n"
     ]
    }
   ],
   "source": [
    "import scipy.integrate as integrate\n",
    "\n",
    "def integrand(x):\n",
    "    return math.cos(x**2)\n",
    "#Given range of I[cos(x^2)]\n",
    "a = 0\n",
    "b = math.sqrt(math.pi/2)\n",
    "#Scipy package that integrates cos(x^2) using the range from a to b\n",
    "I = integrate.quad(integrand, a,b)[0]\n",
    "print('Approximation of the Error, I[cos(x^2)] - Th[cos(x^2)]:', I - CTR(a,b,0.14))"
   ]
  },
  {
   "cell_type": "markdown",
   "metadata": {},
   "source": [
    "## Question 3 part c:"
   ]
  },
  {
   "cell_type": "code",
   "execution_count": 68,
   "metadata": {},
   "outputs": [
    {
     "name": "stdout",
     "output_type": "stream",
     "text": [
      "Sh(cos(x^2)) = 0.9779287717133913\n"
     ]
    }
   ],
   "source": [
    "#SH = CTR(a,b,h)+4/3*(CTR(a,b,h/2)-CTR(a,b,h)) is the given equation for Sh(cos(x^2))\n",
    "SH = CTR(a,b,0.14)+4/3*(CTR(a,b,0.14/2)-CTR(a,b,0.14))\n",
    "print('Sh(cos(x^2)) =', SH)\n"
   ]
  },
  {
   "cell_type": "markdown",
   "metadata": {},
   "source": [
    "## Question 3 part d:"
   ]
  },
  {
   "cell_type": "markdown",
   "metadata": {},
   "source": [
    "Since h is sufficiently small, Sh(cos(x^2)) can be used with the Richardson's Extrapolation which has an Error that converges to 0 faster than h^2 does."
   ]
  },
  {
   "cell_type": "code",
   "execution_count": null,
   "metadata": {},
   "outputs": [],
   "source": []
  }
 ],
 "metadata": {
  "kernelspec": {
   "display_name": "Python 3",
   "language": "python",
   "name": "python3"
  },
  "language_info": {
   "codemirror_mode": {
    "name": "ipython",
    "version": 3
   },
   "file_extension": ".py",
   "mimetype": "text/x-python",
   "name": "python",
   "nbconvert_exporter": "python",
   "pygments_lexer": "ipython3",
   "version": "3.7.4"
  }
 },
 "nbformat": 4,
 "nbformat_minor": 2
}
