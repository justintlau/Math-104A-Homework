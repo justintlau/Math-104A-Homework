{
 "cells": [
  {
   "cell_type": "markdown",
   "metadata": {},
   "source": [
    "## Homework 5\n",
    "Justin Lau \n",
    "07/26/20"
   ]
  },
  {
   "cell_type": "markdown",
   "metadata": {},
   "source": [
    "## Imports"
   ]
  },
  {
   "cell_type": "code",
   "execution_count": 24,
   "metadata": {},
   "outputs": [],
   "source": [
    "import math\n",
    "import numpy as np\n",
    "import matplotlib.pyplot as plt\n",
    "import scipy.fftpack as fft\n",
    "from pandas import DataFrame\n",
    "from scipy.stats import linregress"
   ]
  },
  {
   "cell_type": "markdown",
   "metadata": {},
   "source": [
    "## Question 1"
   ]
  },
  {
   "cell_type": "code",
   "execution_count": 37,
   "metadata": {},
   "outputs": [
    {
     "data": {
      "text/html": [
       "<div>\n",
       "<style scoped>\n",
       "    .dataframe tbody tr th:only-of-type {\n",
       "        vertical-align: middle;\n",
       "    }\n",
       "\n",
       "    .dataframe tbody tr th {\n",
       "        vertical-align: top;\n",
       "    }\n",
       "\n",
       "    .dataframe thead th {\n",
       "        text-align: right;\n",
       "    }\n",
       "</style>\n",
       "<table border=\"1\" class=\"dataframe\">\n",
       "  <thead>\n",
       "    <tr style=\"text-align: right;\">\n",
       "      <th></th>\n",
       "      <th>ck</th>\n",
       "      <th>FFT</th>\n",
       "    </tr>\n",
       "  </thead>\n",
       "  <tbody>\n",
       "    <tr>\n",
       "      <td>0</td>\n",
       "      <td>8.000000e+00+0.000000e+00j</td>\n",
       "      <td>8.000000e+00-0.000000e+00j</td>\n",
       "    </tr>\n",
       "    <tr>\n",
       "      <td>1</td>\n",
       "      <td>8.000000e+00-1.600000e+01j</td>\n",
       "      <td>8.000000e+00-1.600000e+01j</td>\n",
       "    </tr>\n",
       "    <tr>\n",
       "      <td>2</td>\n",
       "      <td>1.200000e+01-2.000000e+01j</td>\n",
       "      <td>1.200000e+01-2.000000e+01j</td>\n",
       "    </tr>\n",
       "    <tr>\n",
       "      <td>3</td>\n",
       "      <td>-2.220446e-15-1.332268e-15j</td>\n",
       "      <td>3.552714e-15+0.000000e+00j</td>\n",
       "    </tr>\n",
       "    <tr>\n",
       "      <td>4</td>\n",
       "      <td>2.664535e-15+3.217658e-16j</td>\n",
       "      <td>3.552714e-15-0.000000e+00j</td>\n",
       "    </tr>\n",
       "    <tr>\n",
       "      <td>5</td>\n",
       "      <td>1.332268e-14+3.108624e-15j</td>\n",
       "      <td>3.552714e-15-0.000000e+00j</td>\n",
       "    </tr>\n",
       "    <tr>\n",
       "      <td>6</td>\n",
       "      <td>1.200000e+01+2.000000e+01j</td>\n",
       "      <td>1.200000e+01+2.000000e+01j</td>\n",
       "    </tr>\n",
       "    <tr>\n",
       "      <td>7</td>\n",
       "      <td>8.000000e+00+1.600000e+01j</td>\n",
       "      <td>8.000000e+00+1.600000e+01j</td>\n",
       "    </tr>\n",
       "  </tbody>\n",
       "</table>\n",
       "</div>"
      ],
      "text/plain": [
       "                           ck                         FFT\n",
       "0  8.000000e+00+0.000000e+00j  8.000000e+00-0.000000e+00j\n",
       "1  8.000000e+00-1.600000e+01j  8.000000e+00-1.600000e+01j\n",
       "2  1.200000e+01-2.000000e+01j  1.200000e+01-2.000000e+01j\n",
       "3 -2.220446e-15-1.332268e-15j  3.552714e-15+0.000000e+00j\n",
       "4  2.664535e-15+3.217658e-16j  3.552714e-15-0.000000e+00j\n",
       "5  1.332268e-14+3.108624e-15j  3.552714e-15-0.000000e+00j\n",
       "6  1.200000e+01+2.000000e+01j  1.200000e+01+2.000000e+01j\n",
       "7  8.000000e+00+1.600000e+01j  8.000000e+00+1.600000e+01j"
      ]
     },
     "execution_count": 37,
     "metadata": {},
     "output_type": "execute_result"
    }
   ],
   "source": [
    "#Data from Question 5 to prove (1)\n",
    "f = [6.000000000000000,\n",
    "     10.242640687119284,\n",
    "     2.000000000000000,\n",
    "     -2.585786437626905,\n",
    "    2.000000000000000,\n",
    "    1.757359312880716,\n",
    "    -6.000000000000000,\n",
    "    -5.414213562373098]\n",
    "\n",
    "c = []\n",
    "for i in range(8):\n",
    "    a = [f[k]*(np.cos(2*math.pi*i*k/len(f))-np.sin(2*math.pi*i*k/len(f))*1j) for k in range(8)]\n",
    "    c.append(sum(a))\n",
    "data = {'ck':c,'FFT':fft.fft(f)}\n",
    "DataFrame(data)"
   ]
  },
  {
   "cell_type": "markdown",
   "metadata": {},
   "source": [
    "Using Scipy FFT package we can see that using the data from Question 5 that the Fourier coefficient from the package is (1)"
   ]
  },
  {
   "cell_type": "markdown",
   "metadata": {},
   "source": [
    "## Question 2"
   ]
  },
  {
   "cell_type": "markdown",
   "metadata": {},
   "source": [
    "Using the same guide online for scipy library it indicates that (5) is the expression for inverse DFT"
   ]
  },
  {
   "cell_type": "code",
   "execution_count": 26,
   "metadata": {},
   "outputs": [
    {
     "data": {
      "text/html": [
       "<div>\n",
       "<style scoped>\n",
       "    .dataframe tbody tr th:only-of-type {\n",
       "        vertical-align: middle;\n",
       "    }\n",
       "\n",
       "    .dataframe tbody tr th {\n",
       "        vertical-align: top;\n",
       "    }\n",
       "\n",
       "    .dataframe thead th {\n",
       "        text-align: right;\n",
       "    }\n",
       "</style>\n",
       "<table border=\"1\" class=\"dataframe\">\n",
       "  <thead>\n",
       "    <tr style=\"text-align: right;\">\n",
       "      <th></th>\n",
       "      <th>Inverse</th>\n",
       "    </tr>\n",
       "  </thead>\n",
       "  <tbody>\n",
       "    <tr>\n",
       "      <td>0</td>\n",
       "      <td>6.000000+0.000000j</td>\n",
       "    </tr>\n",
       "    <tr>\n",
       "      <td>1</td>\n",
       "      <td>10.242641+0.000000j</td>\n",
       "    </tr>\n",
       "    <tr>\n",
       "      <td>2</td>\n",
       "      <td>2.000000+0.000000j</td>\n",
       "    </tr>\n",
       "    <tr>\n",
       "      <td>3</td>\n",
       "      <td>-2.585786+0.000000j</td>\n",
       "    </tr>\n",
       "    <tr>\n",
       "      <td>4</td>\n",
       "      <td>2.000000+0.000000j</td>\n",
       "    </tr>\n",
       "    <tr>\n",
       "      <td>5</td>\n",
       "      <td>1.757359+0.000000j</td>\n",
       "    </tr>\n",
       "    <tr>\n",
       "      <td>6</td>\n",
       "      <td>-6.000000-0.000000j</td>\n",
       "    </tr>\n",
       "    <tr>\n",
       "      <td>7</td>\n",
       "      <td>-5.414214+0.000000j</td>\n",
       "    </tr>\n",
       "  </tbody>\n",
       "</table>\n",
       "</div>"
      ],
      "text/plain": [
       "               Inverse\n",
       "0   6.000000+0.000000j\n",
       "1  10.242641+0.000000j\n",
       "2   2.000000+0.000000j\n",
       "3  -2.585786+0.000000j\n",
       "4   2.000000+0.000000j\n",
       "5   1.757359+0.000000j\n",
       "6  -6.000000-0.000000j\n",
       "7  -5.414214+0.000000j"
      ]
     },
     "execution_count": 26,
     "metadata": {},
     "output_type": "execute_result"
    }
   ],
   "source": [
    "data = {'Inverse':fft.ifft(fft.fft(f))}\n",
    "DataFrame(data)"
   ]
  },
  {
   "cell_type": "markdown",
   "metadata": {},
   "source": [
    "## Question 3 is on the pdf"
   ]
  },
  {
   "cell_type": "markdown",
   "metadata": {},
   "source": [
    "## Question 4"
   ]
  },
  {
   "cell_type": "code",
   "execution_count": 27,
   "metadata": {},
   "outputs": [],
   "source": [
    "#Finding ak, bk Fourier coefficients \n",
    "def fourier(f):\n",
    "    C = fft.fft(f)\n",
    "    A = [] \n",
    "    B = []\n",
    "    for x in C:\n",
    "        A.append(2*x.real/len(f))\n",
    "        B.append(-2*x.imag/len(f))\n",
    "    return [A,B]\n",
    "\n",
    "#Interpolating trigonometric polynomial\n",
    "def trig_interpolating(f,x):\n",
    "    N = int(len(f)/2)\n",
    "    A = fourier(f)[0][:N+1]\n",
    "    B = fourier(f)[1][:N+1]\n",
    "    y = []\n",
    "    for z in x:\n",
    "        l = [A[k]*np.cos(k*z)+B[k]*np.sin(k*z) for k in range(1,len(A)-1)]\n",
    "        y.append(A[0]/2+sum(l)+A[-1]/2*np.cos(N*z))\n",
    "    return y"
   ]
  },
  {
   "cell_type": "markdown",
   "metadata": {},
   "source": [
    "## Question 5"
   ]
  },
  {
   "cell_type": "code",
   "execution_count": 28,
   "metadata": {},
   "outputs": [
    {
     "data": {
      "image/png": "[encoded data removed]",
      "text/plain": [
       "<Figure size 432x288 with 1 Axes>"
      ]
     },
     "metadata": {
      "needs_background": "light"
     },
     "output_type": "display_data"
    }
   ],
   "source": [
    "t = np.linspace(0,2*math.pi,1000)\n",
    "points = np.linspace(0,2*math.pi,9)\n",
    "plt.plot(t,trig_interpolating(f,t),label='P_8(x)')\n",
    "plt.scatter(points[:8],f,color='red',label='f')\n",
    "plt.legend()\n",
    "plt.show()\n"
   ]
  },
  {
   "cell_type": "markdown",
   "metadata": {},
   "source": [
    "## Problem 6"
   ]
  },
  {
   "cell_type": "code",
   "execution_count": 29,
   "metadata": {},
   "outputs": [],
   "source": [
    "N = 8\n",
    "xj = np.linspace(0,2*math.pi,N+1)[:N]\n",
    "x = np.linspace(0,2*math.pi,100)"
   ]
  },
  {
   "cell_type": "code",
   "execution_count": 30,
   "metadata": {},
   "outputs": [
    {
     "data": {
      "image/png": "[encoded data removed]",
      "text/plain": [
       "<Figure size 432x288 with 1 Axes>"
      ]
     },
     "metadata": {
      "needs_background": "light"
     },
     "output_type": "display_data"
    }
   ],
   "source": [
    "plt.scatter(xj,np.exp(np.sin(xj)), color = 'red',label = '(x_j,f_j)')\n",
    "plt.plot(x,trig_interpolating(np.exp(np.sin(xj)),x),label = 'P_8(x)')\n",
    "plt.plot(x,np.exp(np.sin(x)),label ='e^(sin(x))')\n",
    "plt.legend()\n",
    "plt.show()"
   ]
  },
  {
   "cell_type": "code",
   "execution_count": 31,
   "metadata": {},
   "outputs": [],
   "source": [
    "#Derivative of P Fourier Coefficient\n",
    "def diff_fourier(f):\n",
    "    C = fft.fft(f)\n",
    "    A = []\n",
    "    B = []\n",
    "    k = 0\n",
    "    for x in C:\n",
    "        A.append(-2*k*x.imag/len(f))\n",
    "        B.append(-2*k*x.real/len(f))\n",
    "        k = k+1\n",
    "    return [A,B]\n",
    "\n",
    "#Derivative of trigonometric interpolating polynomial\n",
    "def diff_trig_interpolating(f,x):\n",
    "    N = int(len(f)/2) \n",
    "    A = diff_fourier(f)[0][:N+1]\n",
    "    B = diff_fourier(f)[1][:N+1]\n",
    "    y = []\n",
    "    for z in x:\n",
    "        l = [A[k]*np.cos(k*z)+B[k]*np.sin(k*z) for k in range(1,len(A)-1)]\n",
    "        y.append(A[0]/2+sum(l)+A[-1]/2*np.cos(N*z))\n",
    "    return y"
   ]
  },
  {
   "cell_type": "code",
   "execution_count": 32,
   "metadata": {},
   "outputs": [
    {
     "data": {
      "text/html": [
       "<div>\n",
       "<style scoped>\n",
       "    .dataframe tbody tr th:only-of-type {\n",
       "        vertical-align: middle;\n",
       "    }\n",
       "\n",
       "    .dataframe tbody tr th {\n",
       "        vertical-align: top;\n",
       "    }\n",
       "\n",
       "    .dataframe thead th {\n",
       "        text-align: right;\n",
       "    }\n",
       "</style>\n",
       "<table border=\"1\" class=\"dataframe\">\n",
       "  <thead>\n",
       "    <tr style=\"text-align: right;\">\n",
       "      <th></th>\n",
       "      <th>P8'(xj)</th>\n",
       "      <th>f'(xj)</th>\n",
       "      <th>Error</th>\n",
       "    </tr>\n",
       "  </thead>\n",
       "  <tbody>\n",
       "    <tr>\n",
       "      <td>0</td>\n",
       "      <td>9.956821e-01</td>\n",
       "      <td>1.000000e+00</td>\n",
       "      <td>4.317911e-03</td>\n",
       "    </tr>\n",
       "    <tr>\n",
       "      <td>1</td>\n",
       "      <td>1.437543e+00</td>\n",
       "      <td>1.434094e+00</td>\n",
       "      <td>3.449100e-03</td>\n",
       "    </tr>\n",
       "    <tr>\n",
       "      <td>2</td>\n",
       "      <td>4.935202e-16</td>\n",
       "      <td>1.664468e-16</td>\n",
       "      <td>3.270734e-16</td>\n",
       "    </tr>\n",
       "    <tr>\n",
       "      <td>3</td>\n",
       "      <td>-1.437543e+00</td>\n",
       "      <td>-1.434094e+00</td>\n",
       "      <td>3.449100e-03</td>\n",
       "    </tr>\n",
       "    <tr>\n",
       "      <td>4</td>\n",
       "      <td>-9.956821e-01</td>\n",
       "      <td>-1.000000e+00</td>\n",
       "      <td>4.317911e-03</td>\n",
       "    </tr>\n",
       "    <tr>\n",
       "      <td>5</td>\n",
       "      <td>-3.513817e-01</td>\n",
       "      <td>-3.486522e-01</td>\n",
       "      <td>2.729471e-03</td>\n",
       "    </tr>\n",
       "    <tr>\n",
       "      <td>6</td>\n",
       "      <td>2.871168e-17</td>\n",
       "      <td>-6.757836e-17</td>\n",
       "      <td>9.629004e-17</td>\n",
       "    </tr>\n",
       "    <tr>\n",
       "      <td>7</td>\n",
       "      <td>3.513817e-01</td>\n",
       "      <td>3.486522e-01</td>\n",
       "      <td>2.729471e-03</td>\n",
       "    </tr>\n",
       "  </tbody>\n",
       "</table>\n",
       "</div>"
      ],
      "text/plain": [
       "        P8'(xj)        f'(xj)         Error\n",
       "0  9.956821e-01  1.000000e+00  4.317911e-03\n",
       "1  1.437543e+00  1.434094e+00  3.449100e-03\n",
       "2  4.935202e-16  1.664468e-16  3.270734e-16\n",
       "3 -1.437543e+00 -1.434094e+00  3.449100e-03\n",
       "4 -9.956821e-01 -1.000000e+00  4.317911e-03\n",
       "5 -3.513817e-01 -3.486522e-01  2.729471e-03\n",
       "6  2.871168e-17 -6.757836e-17  9.629004e-17\n",
       "7  3.513817e-01  3.486522e-01  2.729471e-03"
      ]
     },
     "execution_count": 32,
     "metadata": {},
     "output_type": "execute_result"
    }
   ],
   "source": [
    "dat = {\"P8'(xj)\":diff_trig_interpolating(np.exp(np.sin(xj)),xj), \n",
    "       \"f'(xj)\":np.cos(xj)*np.exp(np.sin(xj)),\n",
    "       \"Error\":abs(diff_trig_interpolating(np.exp(np.sin(xj)),xj)-np.cos(xj)*np.exp(np.sin(xj)))}\n",
    "DataFrame(dat)"
   ]
  },
  {
   "cell_type": "markdown",
   "metadata": {},
   "source": [
    "## Question 7 Part A"
   ]
  },
  {
   "cell_type": "code",
   "execution_count": 33,
   "metadata": {},
   "outputs": [],
   "source": [
    "#Spectral Approximation\n",
    "def diff_f(f):\n",
    "    N = int(len(f)/2)\n",
    "    c = fft.fft(f)\n",
    "    for k in range(N):\n",
    "        c[k] = 1j*k*c[k] \n",
    "    for k in range(N+1,len(c)):\n",
    "        c[k] = 1j*(k-len(f))*c[k] \n",
    "    c[N] = 0 \n",
    "    return fft.ifft(c).real "
   ]
  },
  {
   "cell_type": "markdown",
   "metadata": {},
   "source": [
    "## Part B"
   ]
  },
  {
   "cell_type": "code",
   "execution_count": 34,
   "metadata": {},
   "outputs": [
    {
     "data": {
      "text/html": [
       "<div>\n",
       "<style scoped>\n",
       "    .dataframe tbody tr th:only-of-type {\n",
       "        vertical-align: middle;\n",
       "    }\n",
       "\n",
       "    .dataframe tbody tr th {\n",
       "        vertical-align: top;\n",
       "    }\n",
       "\n",
       "    .dataframe thead th {\n",
       "        text-align: right;\n",
       "    }\n",
       "</style>\n",
       "<table border=\"1\" class=\"dataframe\">\n",
       "  <thead>\n",
       "    <tr style=\"text-align: right;\">\n",
       "      <th></th>\n",
       "      <th>P8'(xj) (P7)</th>\n",
       "      <th>P8'(xj) (P6)</th>\n",
       "      <th>f'(xj)</th>\n",
       "      <th>Error (P7)</th>\n",
       "      <th>Error (P6)</th>\n",
       "    </tr>\n",
       "  </thead>\n",
       "  <tbody>\n",
       "    <tr>\n",
       "      <td>0</td>\n",
       "      <td>9.956821e-01</td>\n",
       "      <td>9.956821e-01</td>\n",
       "      <td>1.000000e+00</td>\n",
       "      <td>4.317911e-03</td>\n",
       "      <td>4.317911e-03</td>\n",
       "    </tr>\n",
       "    <tr>\n",
       "      <td>1</td>\n",
       "      <td>1.437543e+00</td>\n",
       "      <td>1.437543e+00</td>\n",
       "      <td>1.434094e+00</td>\n",
       "      <td>3.449100e-03</td>\n",
       "      <td>3.449100e-03</td>\n",
       "    </tr>\n",
       "    <tr>\n",
       "      <td>2</td>\n",
       "      <td>3.330669e-16</td>\n",
       "      <td>4.935202e-16</td>\n",
       "      <td>1.664468e-16</td>\n",
       "      <td>1.666202e-16</td>\n",
       "      <td>3.270734e-16</td>\n",
       "    </tr>\n",
       "    <tr>\n",
       "      <td>3</td>\n",
       "      <td>-1.437543e+00</td>\n",
       "      <td>-1.437543e+00</td>\n",
       "      <td>-1.434094e+00</td>\n",
       "      <td>3.449100e-03</td>\n",
       "      <td>3.449100e-03</td>\n",
       "    </tr>\n",
       "    <tr>\n",
       "      <td>4</td>\n",
       "      <td>-9.956821e-01</td>\n",
       "      <td>-9.956821e-01</td>\n",
       "      <td>-1.000000e+00</td>\n",
       "      <td>4.317911e-03</td>\n",
       "      <td>4.317911e-03</td>\n",
       "    </tr>\n",
       "    <tr>\n",
       "      <td>5</td>\n",
       "      <td>-3.513817e-01</td>\n",
       "      <td>-3.513817e-01</td>\n",
       "      <td>-3.486522e-01</td>\n",
       "      <td>2.729471e-03</td>\n",
       "      <td>2.729471e-03</td>\n",
       "    </tr>\n",
       "    <tr>\n",
       "      <td>6</td>\n",
       "      <td>1.110223e-16</td>\n",
       "      <td>2.871168e-17</td>\n",
       "      <td>-6.757836e-17</td>\n",
       "      <td>1.786007e-16</td>\n",
       "      <td>9.629004e-17</td>\n",
       "    </tr>\n",
       "    <tr>\n",
       "      <td>7</td>\n",
       "      <td>3.513817e-01</td>\n",
       "      <td>3.513817e-01</td>\n",
       "      <td>3.486522e-01</td>\n",
       "      <td>2.729471e-03</td>\n",
       "      <td>2.729471e-03</td>\n",
       "    </tr>\n",
       "  </tbody>\n",
       "</table>\n",
       "</div>"
      ],
      "text/plain": [
       "   P8'(xj) (P7)  P8'(xj) (P6)        f'(xj)    Error (P7)    Error (P6)\n",
       "0  9.956821e-01  9.956821e-01  1.000000e+00  4.317911e-03  4.317911e-03\n",
       "1  1.437543e+00  1.437543e+00  1.434094e+00  3.449100e-03  3.449100e-03\n",
       "2  3.330669e-16  4.935202e-16  1.664468e-16  1.666202e-16  3.270734e-16\n",
       "3 -1.437543e+00 -1.437543e+00 -1.434094e+00  3.449100e-03  3.449100e-03\n",
       "4 -9.956821e-01 -9.956821e-01 -1.000000e+00  4.317911e-03  4.317911e-03\n",
       "5 -3.513817e-01 -3.513817e-01 -3.486522e-01  2.729471e-03  2.729471e-03\n",
       "6  1.110223e-16  2.871168e-17 -6.757836e-17  1.786007e-16  9.629004e-17\n",
       "7  3.513817e-01  3.513817e-01  3.486522e-01  2.729471e-03  2.729471e-03"
      ]
     },
     "execution_count": 34,
     "metadata": {},
     "output_type": "execute_result"
    }
   ],
   "source": [
    "#Comparing the errors\n",
    "data = {\"P8'(xj) (P7)\":diff_f(np.exp(np.sin(xj))),\n",
    "        \"P8'(xj) (P6)\":diff_trig_interpolating(np.exp(np.sin(xj)),xj), \n",
    "        \"f'(xj)\":np.cos(xj)*np.exp(np.sin(xj)),\n",
    "        \"Error (P7)\":abs(diff_f(np.exp(np.sin(xj)))-np.cos(xj)*np.exp(np.sin(xj))),\n",
    "        \"Error (P6)\":abs(diff_trig_interpolating(np.exp(np.sin(xj)),xj)-np.cos(xj)*np.exp(np.sin(xj)))}\n",
    "DataFrame(data)"
   ]
  },
  {
   "cell_type": "markdown",
   "metadata": {},
   "source": [
    "## Part C"
   ]
  },
  {
   "cell_type": "code",
   "execution_count": 35,
   "metadata": {},
   "outputs": [],
   "source": [
    "def xj(n):\n",
    "    return np.linspace(0,2*math.pi,n+1)[:n]"
   ]
  },
  {
   "cell_type": "code",
   "execution_count": 36,
   "metadata": {},
   "outputs": [
    {
     "data": {
      "image/png": "[encoded data removed]",
      "text/plain": [
       "<Figure size 432x288 with 1 Axes>"
      ]
     },
     "metadata": {
      "needs_background": "light"
     },
     "output_type": "display_data"
    },
    {
     "data": {
      "text/plain": [
       "LinregressResult(slope=-20.02854320706271, intercept=37.461869565745374, rvalue=-0.9878934244574042, pvalue=0.09916191524400471, stderr=3.145187012582406)"
      ]
     },
     "execution_count": 36,
     "metadata": {},
     "output_type": "execute_result"
    }
   ],
   "source": [
    "n = [8,16,32]\n",
    "error = []\n",
    "for i in n:\n",
    "    error.append(max((abs(diff_f(np.exp(np.sin(xj(i))))-np.cos(xj(i))*np.exp(np.sin(xj(i)))))))\n",
    "    \n",
    "plt.scatter(n,error)\n",
    "plt.ylim(-0.0005,0.005)\n",
    "plt.show()\n",
    "\n",
    "linregress(np.log(n),np.log(error))"
   ]
  },
  {
   "cell_type": "code",
   "execution_count": null,
   "metadata": {},
   "outputs": [],
   "source": []
  }
 ],
 "metadata": {
  "kernelspec": {
   "display_name": "Python 3",
   "language": "python",
   "name": "python3"
  },
  "language_info": {
   "codemirror_mode": {
    "name": "ipython",
    "version": 3
   },
   "file_extension": ".py",
   "mimetype": "text/x-python",
   "name": "python",
   "nbconvert_exporter": "python",
   "pygments_lexer": "ipython3",
   "version": "3.7.4"
  }
 },
 "nbformat": 4,
 "nbformat_minor": 2
}
