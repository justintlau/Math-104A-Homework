{
 "cells": [
  {
   "cell_type": "markdown",
   "metadata": {},
   "source": [
    "## Homework 6"
   ]
  },
  {
   "cell_type": "markdown",
   "metadata": {},
   "source": [
    "Justin Lau"
   ]
  },
  {
   "cell_type": "markdown",
   "metadata": {},
   "source": [
    "## Imports"
   ]
  },
  {
   "cell_type": "code",
   "execution_count": 89,
   "metadata": {},
   "outputs": [],
   "source": [
    "import numpy as np\n",
    "import math\n",
    "from scipy.special import legendre\n",
    "import scipy.integrate as integrate\n",
    "from sympy import var\n",
    "import matplotlib.pyplot as plt"
   ]
  },
  {
   "cell_type": "markdown",
   "metadata": {},
   "source": [
    "## Question 2 and 4 are on pdf"
   ]
  },
  {
   "cell_type": "markdown",
   "metadata": {},
   "source": [
    "## Question 4 Part A\n",
    "Using numbers from python to double check work on the pdf"
   ]
  },
  {
   "cell_type": "code",
   "execution_count": 86,
   "metadata": {},
   "outputs": [],
   "source": [
    "polynomials = []\n",
    "n = []\n",
    "for i in range(5):\n",
    "    polynomials.append(legendre(i))\n",
    "    n.append(i)\n",
    "x = var('x')\n",
    "#Finding the Legendre polynomials using the scipy.special.legendre package just to check answers worked out on pdf\n",
    "P0 = polynomials[0][0]\n",
    "P1 = polynomials[1][1]*x + polynomials[1][0]\n",
    "P2 = polynomials[2][2]*x**2 + polynomials[2][1]*x + polynomials[2][0]\n",
    "P3 = polynomials[3][3]*x**3 + polynomials[3][2]*x**2 + polynomials[3][1]*x + polynomials[3][0]\n",
    "P4 = polynomials[4][4]*x**4 + polynomials[4][3]*x**3 + polynomials[4][2]*x**2 + polynomials[4][1]*x + polynomials[4][0]\n",
    "P = [P0, P1, P2, P3, P4]"
   ]
  },
  {
   "cell_type": "code",
   "execution_count": 87,
   "metadata": {},
   "outputs": [
    {
     "name": "stdout",
     "output_type": "stream",
     "text": [
      "For n = 0 1.0\n",
      "For n = 1 1.0*x\n",
      "For n = 2 1.5*x**2 - 0.5\n",
      "For n = 3 2.5*x**3 - 1.5*x\n",
      "For n = 4 4.375*x**4 + 4.85722573273506e-16*x**3 - 3.75*x**2 + 2.42861286636753e-16*x + 0.375\n"
     ]
    }
   ],
   "source": [
    "for i in range(len(P)):\n",
    "    print('For n = %i' %i, P[i])"
   ]
  },
  {
   "cell_type": "markdown",
   "metadata": {},
   "source": [
    "## Part B"
   ]
  },
  {
   "cell_type": "code",
   "execution_count": 67,
   "metadata": {},
   "outputs": [],
   "source": [
    "#Finding the function e^x * legendre polynomial alongside just (legendre polynomial)^2\n",
    "def B_coefficients(degree):\n",
    "    if degree == 0:\n",
    "        e = lambda x: np.exp(x)*(polynomials[degree][degree])\n",
    "        p = lambda x: polynomials[0][0]**2\n",
    "        return e,p\n",
    "    if degree == 1:\n",
    "        e = lambda x: np.exp(x)*(polynomials[degree][degree]*x + polynomials[degree][degree-1])\n",
    "        p = lambda x: (polynomials[degree][degree]*x + polynomials[degree][degree-1])**2\n",
    "        return e,p    \n",
    "    if degree == 2:\n",
    "        e = lambda x: np.exp(x)*(polynomials[degree][degree]*x**2 + polynomials[degree][degree-1]*x + polynomials[degree][degree-2])\n",
    "        p = lambda x: (polynomials[degree][degree]*x**2 + polynomials[degree][degree-1]*x + polynomials[degree][degree-2])**2\n",
    "        return e,p\n",
    "    if degree == 3:\n",
    "        e = lambda x: np.exp(x)*(polynomials[degree][degree]*x**3 + polynomials[degree][degree-1]*x**2 + polynomials[degree][degree-2]*x + polynomials[degree][degree-3])\n",
    "        p = lambda x: (polynomials[degree][degree]*x**3 + polynomials[degree][degree-1]*x**2 + polynomials[degree][degree-2]*x + polynomials[degree][degree-3])**2\n",
    "    return e,p  "
   ]
  },
  {
   "cell_type": "code",
   "execution_count": 68,
   "metadata": {},
   "outputs": [
    {
     "data": {
      "text/plain": [
       "[1.1752011936438014,\n",
       " 1.103638323514327,\n",
       " 0.3578143506473725,\n",
       " 0.07045563366848857]"
      ]
     },
     "execution_count": 68,
     "metadata": {},
     "output_type": "execute_result"
    }
   ],
   "source": [
    "#performing integration of the functions found in [-1,1]\n",
    "def Least_squares(degree):\n",
    "    B = []\n",
    "    for i in range(degree):\n",
    "        B.append(integrate.quad(B_coefficients(i)[0],-1,1)[0]/integrate.quad(B_coefficients(i)[1], -1, 1)[0])\n",
    "    return B\n",
    "Least_squares(4)"
   ]
  },
  {
   "cell_type": "code",
   "execution_count": 81,
   "metadata": {},
   "outputs": [
    {
     "data": {
      "text/latex": [
       "$\\displaystyle 0.176139084171221 x^{3} + 0.536721525971059 x^{2} + 0.997954873011594 x + 0.996294018320115$"
      ],
      "text/plain": [
       "0.176139084171221*x**3 + 0.536721525971059*x**2 + 0.997954873011594*x + 0.996294018320115"
      ]
     },
     "execution_count": 81,
     "metadata": {},
     "output_type": "execute_result"
    }
   ],
   "source": [
    "B = Least_squares(4)\n",
    "least = 0\n",
    "for i in range(len(B)):\n",
    "    least += B[i]*P[i]\n",
    "least"
   ]
  },
  {
   "cell_type": "markdown",
   "metadata": {},
   "source": [
    "## Part C"
   ]
  },
  {
   "cell_type": "code",
   "execution_count": 57,
   "metadata": {},
   "outputs": [
    {
     "data": {
      "text/latex": [
       "$\\displaystyle 4.375 x^{4} + 4.85722573273506 \\cdot 10^{-16} x^{3} - 3.75 x^{2} + 0.375$"
      ],
      "text/plain": [
       "4.375*x**4 + 4.85722573273506e-16*x**3 - 3.75*x**2 + 0.375"
      ]
     },
     "execution_count": 57,
     "metadata": {},
     "output_type": "execute_result"
    }
   ],
   "source": [
    "x = var('x')\n",
    "degree = 4\n",
    "polynomials[degree][degree]*x**4 + polynomials[degree][degree-1]*x**3 + polynomials[degree][degree-2]*x**2 + polynomials[degree][degree-3]**1 + polynomials[degree][degree-4]"
   ]
  },
  {
   "cell_type": "code",
   "execution_count": 82,
   "metadata": {},
   "outputs": [],
   "source": [
    "#same as before just switching out e^x for x^3\n",
    "def new_B(degree):\n",
    "    if degree == 0:\n",
    "        e = lambda x: x**3*(polynomials[degree][degree])\n",
    "        p = lambda x: polynomials[0][0]**2\n",
    "        return e,p\n",
    "    if degree == 1:\n",
    "        e = lambda x: x**3*(polynomials[degree][degree]*x + polynomials[degree][degree-1])\n",
    "        p = lambda x: (polynomials[degree][degree]*x + polynomials[degree][degree-1])**2\n",
    "        return e,p    \n",
    "    if degree == 2:\n",
    "        e = lambda x: x**3*(polynomials[degree][degree]*x**2 + polynomials[degree][degree-1]*x + polynomials[degree][degree-2])\n",
    "        p = lambda x: (polynomials[degree][degree]*x**2 + polynomials[degree][degree-1]*x + polynomials[degree][degree-2])**2\n",
    "        return e,p\n",
    "    if degree == 3:\n",
    "        e = lambda x: x**3*(polynomials[degree][degree]*x**3 + polynomials[degree][degree-1]*x**2 + polynomials[degree][degree-2]*x + polynomials[degree][degree-3])\n",
    "        p = lambda x: (polynomials[degree][degree]*x**3 + polynomials[degree][degree-1]*x**2 + polynomials[degree][degree-2]*x + polynomials[degree][degree-3])**2\n",
    "    if degree == 4:\n",
    "        e = lambda x: x**3*(polynomials[degree][degree]*x**4 + polynomials[degree][degree-1]*x**3 + polynomials[degree][degree-2]*x**2 + polynomials[degree][degree-3]**1 + polynomials[degree][degree-4])**2\n",
    "        p = lambda x: (polynomials[degree][degree]*x**4 + polynomials[degree][degree-1]*x**3 + polynomials[degree][degree-2]*x**2 + polynomials[degree][degree-3]**1 + polynomials[degree][degree-4])**2\n",
    "    return e,p  "
   ]
  },
  {
   "cell_type": "code",
   "execution_count": 84,
   "metadata": {},
   "outputs": [
    {
     "data": {
      "text/plain": [
       "[0.0, 0.6000000000000001, 0.0, 0.39999999999999974, 4.046863357693871e-16]"
      ]
     },
     "execution_count": 84,
     "metadata": {},
     "output_type": "execute_result"
    }
   ],
   "source": [
    "def new_Least_squares(degree):\n",
    "    B = []\n",
    "    for i in range(degree):\n",
    "        B.append(integrate.quad(new_B(i)[0],-1,1)[0]/integrate.quad(new_B(i)[1], -1, 1)[0])\n",
    "    return B\n",
    "new_Least_squares(5)"
   ]
  },
  {
   "cell_type": "code",
   "execution_count": 85,
   "metadata": {},
   "outputs": [
    {
     "data": {
      "text/latex": [
       "$\\displaystyle 1.77050271899107 \\cdot 10^{-15} x^{4} + 0.999999999999999 x^{3} - 1.5175737591352 \\cdot 10^{-15} x^{2} + 3.33066907387547 \\cdot 10^{-16} x + 1.5175737591352 \\cdot 10^{-16}$"
      ],
      "text/plain": [
       "1.77050271899107e-15*x**4 + 0.999999999999999*x**3 - 1.5175737591352e-15*x**2 + 3.33066907387547e-16*x + 1.5175737591352e-16"
      ]
     },
     "execution_count": 85,
     "metadata": {},
     "output_type": "execute_result"
    }
   ],
   "source": [
    "B = new_Least_squares(5)\n",
    "least = 0\n",
    "for i in range(len(B)):\n",
    "    least += B[i]*P[i]\n",
    "least"
   ]
  },
  {
   "cell_type": "markdown",
   "metadata": {},
   "source": [
    "## Question 5"
   ]
  },
  {
   "cell_type": "code",
   "execution_count": 105,
   "metadata": {},
   "outputs": [
    {
     "data": {
      "text/plain": [
       "[]"
      ]
     },
     "execution_count": 105,
     "metadata": {},
     "output_type": "execute_result"
    },
    {
     "data": {
      "image/png": "[encoded data removed]",
      "text/plain": [
       "<Figure size 432x288 with 1 Axes>"
      ]
     },
     "metadata": {
      "needs_background": "light"
     },
     "output_type": "display_data"
    }
   ],
   "source": [
    "#Using function created for Homework 2 Question 7\n",
    "\n",
    "#Creating a chebyshev polynomial\n",
    "def cheby(n,x):\n",
    "    #values for if n = 0 and n = x\n",
    "    T = [1,x]\n",
    "    if n == 0:\n",
    "        return np.ones(len(x))\n",
    "    # create new chebyshev polynomial until desired n value is reached\n",
    "    count = 1\n",
    "    while(count < n):\n",
    "        #store all chebyshev polynomials in sequential order\n",
    "        T.append(2*x*T[count]-T[count-1])\n",
    "        count = count + 1\n",
    "    return T[count]\n",
    "\n",
    "#range of x that has the best visual representation\n",
    "x = np.linspace(-1.05,1.05,100)\n",
    "\n",
    "for i in range(5):\n",
    "    T = 'T_'\n",
    "    ix = '(x)'\n",
    "    #a monic chebyshev polynomial is Tn*(1/2^(n-1))\n",
    "    plt.plot(x,1/(2**(i-1))*cheby(i,x), label = T+str(i)+ix)\n",
    "plt.legend()\n",
    "plt.plot()"
   ]
  },
  {
   "cell_type": "code",
   "execution_count": null,
   "metadata": {},
   "outputs": [],
   "source": []
  }
 ],
 "metadata": {
  "kernelspec": {
   "display_name": "Python 3",
   "language": "python",
   "name": "python3"
  },
  "language_info": {
   "codemirror_mode": {
    "name": "ipython",
    "version": 3
   },
   "file_extension": ".py",
   "mimetype": "text/x-python",
   "name": "python",
   "nbconvert_exporter": "python",
   "pygments_lexer": "ipython3",
   "version": "3.7.4"
  }
 },
 "nbformat": 4,
 "nbformat_minor": 2
}
